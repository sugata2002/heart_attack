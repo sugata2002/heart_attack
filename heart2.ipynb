{
 "cells": [
  {
   "cell_type": "code",
   "execution_count": 1,
   "metadata": {},
   "outputs": [],
   "source": [
    "import pandas as pd \n",
    "import numpy as np \n",
    "import matplotlib.pyplot as plt\n",
    "import plotly.express as pe\n",
    "import seaborn as sb\n",
    "import io"
   ]
  },
  {
   "attachments": {},
   "cell_type": "markdown",
   "metadata": {},
   "source": [
    "<p style=\"color:#8498f0 ; font-size:large\">\n",
    "MATADATA:-\n",
    "\n",
    "<p style=\"color:#8498f0 ; font-size:small\">\n",
    "Age : Age of the patient\n",
    "<p style=\"color:#8498f0 ; font-size:small\">\n",
    "Sex : Sex of the patient\n",
    "<p style=\"color:#8498f0 ; font-size:small\">\n",
    "exng: exercise induced angina (1 = yes; 0 = no)\n",
    "<p style=\"color:#8498f0 ; font-size:small\">\n",
    "caa: number of major vessels (0-3)\n",
    "<p style=\"color:#8498f0 ; font-size:small\">\n",
    "cp : Chest Pain type chest pain type\n",
    "<p style=\"color:#8498f0 ; font-size:small\">\n",
    "Value 1: typical angina\n",
    "Value 2: atypical angina\n",
    "Value 3: non-anginal pain\n",
    "Value 4: asymptomatic\n",
    "trtbps : resting blood pressure (in mm Hg)\n",
    "<p style=\"color:#8498f0 ; font-size:small\">\n",
    "chol : cholestoral in mg/dl fetched via BMI sensor\n",
    "<p style=\"color:#8498f0 ; font-size:small\">\n",
    "fbs : (fasting blood sugar > 120 mg/dl) (1 = true; 0 = false)\n",
    "<p style=\"color:#8498f0 ; font-size:small\">\n",
    "rest_ecg : resting electrocardiographic results\n",
    "<p style=\"color:#8498f0 ; font-size:small\">\n",
    "Value 0: normal<br>\n",
    "Value 1: having ST-T wave abnormality (T wave inversions and/or ST elevation or depression of > 0.05 mV)<br>\n",
    "Value 2: showing probable or definite left ventricular hypertrophy by Estes' criteria<br>\n",
    "thalach : maximum heart rate achieved<br>\n",
    "<p style=\"color:#8498f0 ; font-size:small\">\n",
    "target : 0= less chance of heart attack 1= more chance of heart attack\n"
   ]
  },
  {
   "cell_type": "code",
   "execution_count": 3,
   "metadata": {},
   "outputs": [],
   "source": [
    "df = pd.read_csv(\"heart.csv\")"
   ]
  },
  {
   "cell_type": "code",
   "execution_count": 4,
   "metadata": {},
   "outputs": [
    {
     "data": {
      "text/html": [
       "<div>\n",
       "<style scoped>\n",
       "    .dataframe tbody tr th:only-of-type {\n",
       "        vertical-align: middle;\n",
       "    }\n",
       "\n",
       "    .dataframe tbody tr th {\n",
       "        vertical-align: top;\n",
       "    }\n",
       "\n",
       "    .dataframe thead th {\n",
       "        text-align: right;\n",
       "    }\n",
       "</style>\n",
       "<table border=\"1\" class=\"dataframe\">\n",
       "  <thead>\n",
       "    <tr style=\"text-align: right;\">\n",
       "      <th></th>\n",
       "      <th>age</th>\n",
       "      <th>sex</th>\n",
       "      <th>cp</th>\n",
       "      <th>trtbps</th>\n",
       "      <th>chol</th>\n",
       "      <th>fbs</th>\n",
       "      <th>restecg</th>\n",
       "      <th>thalachh</th>\n",
       "      <th>exng</th>\n",
       "      <th>oldpeak</th>\n",
       "      <th>slp</th>\n",
       "      <th>caa</th>\n",
       "      <th>thall</th>\n",
       "      <th>output</th>\n",
       "    </tr>\n",
       "  </thead>\n",
       "  <tbody>\n",
       "    <tr>\n",
       "      <th>0</th>\n",
       "      <td>63</td>\n",
       "      <td>1</td>\n",
       "      <td>3</td>\n",
       "      <td>145</td>\n",
       "      <td>233</td>\n",
       "      <td>1</td>\n",
       "      <td>0</td>\n",
       "      <td>150</td>\n",
       "      <td>0</td>\n",
       "      <td>2.3</td>\n",
       "      <td>0</td>\n",
       "      <td>0</td>\n",
       "      <td>1</td>\n",
       "      <td>1</td>\n",
       "    </tr>\n",
       "    <tr>\n",
       "      <th>1</th>\n",
       "      <td>37</td>\n",
       "      <td>1</td>\n",
       "      <td>2</td>\n",
       "      <td>130</td>\n",
       "      <td>250</td>\n",
       "      <td>0</td>\n",
       "      <td>1</td>\n",
       "      <td>187</td>\n",
       "      <td>0</td>\n",
       "      <td>3.5</td>\n",
       "      <td>0</td>\n",
       "      <td>0</td>\n",
       "      <td>2</td>\n",
       "      <td>1</td>\n",
       "    </tr>\n",
       "    <tr>\n",
       "      <th>2</th>\n",
       "      <td>41</td>\n",
       "      <td>0</td>\n",
       "      <td>1</td>\n",
       "      <td>130</td>\n",
       "      <td>204</td>\n",
       "      <td>0</td>\n",
       "      <td>0</td>\n",
       "      <td>172</td>\n",
       "      <td>0</td>\n",
       "      <td>1.4</td>\n",
       "      <td>2</td>\n",
       "      <td>0</td>\n",
       "      <td>2</td>\n",
       "      <td>1</td>\n",
       "    </tr>\n",
       "    <tr>\n",
       "      <th>3</th>\n",
       "      <td>56</td>\n",
       "      <td>1</td>\n",
       "      <td>1</td>\n",
       "      <td>120</td>\n",
       "      <td>236</td>\n",
       "      <td>0</td>\n",
       "      <td>1</td>\n",
       "      <td>178</td>\n",
       "      <td>0</td>\n",
       "      <td>0.8</td>\n",
       "      <td>2</td>\n",
       "      <td>0</td>\n",
       "      <td>2</td>\n",
       "      <td>1</td>\n",
       "    </tr>\n",
       "    <tr>\n",
       "      <th>4</th>\n",
       "      <td>57</td>\n",
       "      <td>0</td>\n",
       "      <td>0</td>\n",
       "      <td>120</td>\n",
       "      <td>354</td>\n",
       "      <td>0</td>\n",
       "      <td>1</td>\n",
       "      <td>163</td>\n",
       "      <td>1</td>\n",
       "      <td>0.6</td>\n",
       "      <td>2</td>\n",
       "      <td>0</td>\n",
       "      <td>2</td>\n",
       "      <td>1</td>\n",
       "    </tr>\n",
       "    <tr>\n",
       "      <th>...</th>\n",
       "      <td>...</td>\n",
       "      <td>...</td>\n",
       "      <td>...</td>\n",
       "      <td>...</td>\n",
       "      <td>...</td>\n",
       "      <td>...</td>\n",
       "      <td>...</td>\n",
       "      <td>...</td>\n",
       "      <td>...</td>\n",
       "      <td>...</td>\n",
       "      <td>...</td>\n",
       "      <td>...</td>\n",
       "      <td>...</td>\n",
       "      <td>...</td>\n",
       "    </tr>\n",
       "    <tr>\n",
       "      <th>298</th>\n",
       "      <td>57</td>\n",
       "      <td>0</td>\n",
       "      <td>0</td>\n",
       "      <td>140</td>\n",
       "      <td>241</td>\n",
       "      <td>0</td>\n",
       "      <td>1</td>\n",
       "      <td>123</td>\n",
       "      <td>1</td>\n",
       "      <td>0.2</td>\n",
       "      <td>1</td>\n",
       "      <td>0</td>\n",
       "      <td>3</td>\n",
       "      <td>0</td>\n",
       "    </tr>\n",
       "    <tr>\n",
       "      <th>299</th>\n",
       "      <td>45</td>\n",
       "      <td>1</td>\n",
       "      <td>3</td>\n",
       "      <td>110</td>\n",
       "      <td>264</td>\n",
       "      <td>0</td>\n",
       "      <td>1</td>\n",
       "      <td>132</td>\n",
       "      <td>0</td>\n",
       "      <td>1.2</td>\n",
       "      <td>1</td>\n",
       "      <td>0</td>\n",
       "      <td>3</td>\n",
       "      <td>0</td>\n",
       "    </tr>\n",
       "    <tr>\n",
       "      <th>300</th>\n",
       "      <td>68</td>\n",
       "      <td>1</td>\n",
       "      <td>0</td>\n",
       "      <td>144</td>\n",
       "      <td>193</td>\n",
       "      <td>1</td>\n",
       "      <td>1</td>\n",
       "      <td>141</td>\n",
       "      <td>0</td>\n",
       "      <td>3.4</td>\n",
       "      <td>1</td>\n",
       "      <td>2</td>\n",
       "      <td>3</td>\n",
       "      <td>0</td>\n",
       "    </tr>\n",
       "    <tr>\n",
       "      <th>301</th>\n",
       "      <td>57</td>\n",
       "      <td>1</td>\n",
       "      <td>0</td>\n",
       "      <td>130</td>\n",
       "      <td>131</td>\n",
       "      <td>0</td>\n",
       "      <td>1</td>\n",
       "      <td>115</td>\n",
       "      <td>1</td>\n",
       "      <td>1.2</td>\n",
       "      <td>1</td>\n",
       "      <td>1</td>\n",
       "      <td>3</td>\n",
       "      <td>0</td>\n",
       "    </tr>\n",
       "    <tr>\n",
       "      <th>302</th>\n",
       "      <td>57</td>\n",
       "      <td>0</td>\n",
       "      <td>1</td>\n",
       "      <td>130</td>\n",
       "      <td>236</td>\n",
       "      <td>0</td>\n",
       "      <td>0</td>\n",
       "      <td>174</td>\n",
       "      <td>0</td>\n",
       "      <td>0.0</td>\n",
       "      <td>1</td>\n",
       "      <td>1</td>\n",
       "      <td>2</td>\n",
       "      <td>0</td>\n",
       "    </tr>\n",
       "  </tbody>\n",
       "</table>\n",
       "<p>303 rows × 14 columns</p>\n",
       "</div>"
      ],
      "text/plain": [
       "     age  sex  cp  trtbps  chol  fbs  restecg  thalachh  exng  oldpeak  slp  \\\n",
       "0     63    1   3     145   233    1        0       150     0      2.3    0   \n",
       "1     37    1   2     130   250    0        1       187     0      3.5    0   \n",
       "2     41    0   1     130   204    0        0       172     0      1.4    2   \n",
       "3     56    1   1     120   236    0        1       178     0      0.8    2   \n",
       "4     57    0   0     120   354    0        1       163     1      0.6    2   \n",
       "..   ...  ...  ..     ...   ...  ...      ...       ...   ...      ...  ...   \n",
       "298   57    0   0     140   241    0        1       123     1      0.2    1   \n",
       "299   45    1   3     110   264    0        1       132     0      1.2    1   \n",
       "300   68    1   0     144   193    1        1       141     0      3.4    1   \n",
       "301   57    1   0     130   131    0        1       115     1      1.2    1   \n",
       "302   57    0   1     130   236    0        0       174     0      0.0    1   \n",
       "\n",
       "     caa  thall  output  \n",
       "0      0      1       1  \n",
       "1      0      2       1  \n",
       "2      0      2       1  \n",
       "3      0      2       1  \n",
       "4      0      2       1  \n",
       "..   ...    ...     ...  \n",
       "298    0      3       0  \n",
       "299    0      3       0  \n",
       "300    2      3       0  \n",
       "301    1      3       0  \n",
       "302    1      2       0  \n",
       "\n",
       "[303 rows x 14 columns]"
      ]
     },
     "execution_count": 4,
     "metadata": {},
     "output_type": "execute_result"
    }
   ],
   "source": [
    "df"
   ]
  },
  {
   "attachments": {},
   "cell_type": "markdown",
   "metadata": {},
   "source": [
    "<p style=\"color:#8498f0 ; font-size:large\">\n",
    "METADATA ABOUT GENDER AND CHEST PAIN\n",
    "\n",
    "<p style=\"color:#8498f0 ; font-size:small\">\n",
    "cp : Chest Pain type chest pain type<br>\n",
    "Value 0: typical angina<br>\n",
    "Value 1: atypical angina<br> \n",
    "Value 2: non-anginal pain  <br>\n",
    "Value 3: asymptomatic <br>\n",
    "\n",
    "<p style=\"color:#8498f0 ; font-size:small\">\n",
    "sex: gender<br>\n",
    "0:male<br>\n",
    "1:female<br>"
   ]
  },
  {
   "cell_type": "code",
   "execution_count": 5,
   "metadata": {},
   "outputs": [
    {
     "data": {
      "text/html": [
       "<div>\n",
       "<style scoped>\n",
       "    .dataframe tbody tr th:only-of-type {\n",
       "        vertical-align: middle;\n",
       "    }\n",
       "\n",
       "    .dataframe tbody tr th {\n",
       "        vertical-align: top;\n",
       "    }\n",
       "\n",
       "    .dataframe thead th {\n",
       "        text-align: right;\n",
       "    }\n",
       "</style>\n",
       "<table border=\"1\" class=\"dataframe\">\n",
       "  <thead>\n",
       "    <tr style=\"text-align: right;\">\n",
       "      <th>sex</th>\n",
       "      <th>0</th>\n",
       "      <th>1</th>\n",
       "    </tr>\n",
       "    <tr>\n",
       "      <th>cp</th>\n",
       "      <th></th>\n",
       "      <th></th>\n",
       "    </tr>\n",
       "  </thead>\n",
       "  <tbody>\n",
       "    <tr>\n",
       "      <th>0</th>\n",
       "      <td>39</td>\n",
       "      <td>104</td>\n",
       "    </tr>\n",
       "    <tr>\n",
       "      <th>1</th>\n",
       "      <td>18</td>\n",
       "      <td>32</td>\n",
       "    </tr>\n",
       "    <tr>\n",
       "      <th>2</th>\n",
       "      <td>35</td>\n",
       "      <td>52</td>\n",
       "    </tr>\n",
       "    <tr>\n",
       "      <th>3</th>\n",
       "      <td>4</td>\n",
       "      <td>19</td>\n",
       "    </tr>\n",
       "  </tbody>\n",
       "</table>\n",
       "</div>"
      ],
      "text/plain": [
       "sex   0    1\n",
       "cp          \n",
       "0    39  104\n",
       "1    18   32\n",
       "2    35   52\n",
       "3     4   19"
      ]
     },
     "execution_count": 5,
     "metadata": {},
     "output_type": "execute_result"
    }
   ],
   "source": [
    "cross = pd.crosstab(df[\"sex\"] , df[\"cp\"])\n",
    "cross.transpose()"
   ]
  },
  {
   "cell_type": "code",
   "execution_count": 6,
   "metadata": {},
   "outputs": [
    {
     "data": {
      "application/vnd.plotly.v1+json": {
       "config": {
        "plotlyServerURL": "https://plot.ly"
       },
       "data": [
        {
         "alignmentgroup": "True",
         "hovertemplate": "cp=0<br>sex=%{x}<br>value=%{y}<extra></extra>",
         "legendgroup": "0",
         "marker": {
          "color": "#636efa",
          "pattern": {
           "shape": ""
          }
         },
         "name": "0",
         "offsetgroup": "0",
         "orientation": "v",
         "showlegend": true,
         "textposition": "auto",
         "type": "bar",
         "x": [
          0,
          1
         ],
         "xaxis": "x",
         "y": [
          39,
          104
         ],
         "yaxis": "y"
        },
        {
         "alignmentgroup": "True",
         "hovertemplate": "cp=1<br>sex=%{x}<br>value=%{y}<extra></extra>",
         "legendgroup": "1",
         "marker": {
          "color": "#EF553B",
          "pattern": {
           "shape": ""
          }
         },
         "name": "1",
         "offsetgroup": "1",
         "orientation": "v",
         "showlegend": true,
         "textposition": "auto",
         "type": "bar",
         "x": [
          0,
          1
         ],
         "xaxis": "x",
         "y": [
          18,
          32
         ],
         "yaxis": "y"
        },
        {
         "alignmentgroup": "True",
         "hovertemplate": "cp=2<br>sex=%{x}<br>value=%{y}<extra></extra>",
         "legendgroup": "2",
         "marker": {
          "color": "#00cc96",
          "pattern": {
           "shape": ""
          }
         },
         "name": "2",
         "offsetgroup": "2",
         "orientation": "v",
         "showlegend": true,
         "textposition": "auto",
         "type": "bar",
         "x": [
          0,
          1
         ],
         "xaxis": "x",
         "y": [
          35,
          52
         ],
         "yaxis": "y"
        },
        {
         "alignmentgroup": "True",
         "hovertemplate": "cp=3<br>sex=%{x}<br>value=%{y}<extra></extra>",
         "legendgroup": "3",
         "marker": {
          "color": "#ab63fa",
          "pattern": {
           "shape": ""
          }
         },
         "name": "3",
         "offsetgroup": "3",
         "orientation": "v",
         "showlegend": true,
         "textposition": "auto",
         "type": "bar",
         "x": [
          0,
          1
         ],
         "xaxis": "x",
         "y": [
          4,
          19
         ],
         "yaxis": "y"
        }
       ],
       "layout": {
        "barmode": "relative",
        "height": 600,
        "legend": {
         "title": {
          "text": "cp"
         },
         "tracegroupgap": 0
        },
        "margin": {
         "t": 60
        },
        "template": {
         "data": {
          "bar": [
           {
            "error_x": {
             "color": "#f2f5fa"
            },
            "error_y": {
             "color": "#f2f5fa"
            },
            "marker": {
             "line": {
              "color": "rgb(17,17,17)",
              "width": 0.5
             },
             "pattern": {
              "fillmode": "overlay",
              "size": 10,
              "solidity": 0.2
             }
            },
            "type": "bar"
           }
          ],
          "barpolar": [
           {
            "marker": {
             "line": {
              "color": "rgb(17,17,17)",
              "width": 0.5
             },
             "pattern": {
              "fillmode": "overlay",
              "size": 10,
              "solidity": 0.2
             }
            },
            "type": "barpolar"
           }
          ],
          "carpet": [
           {
            "aaxis": {
             "endlinecolor": "#A2B1C6",
             "gridcolor": "#506784",
             "linecolor": "#506784",
             "minorgridcolor": "#506784",
             "startlinecolor": "#A2B1C6"
            },
            "baxis": {
             "endlinecolor": "#A2B1C6",
             "gridcolor": "#506784",
             "linecolor": "#506784",
             "minorgridcolor": "#506784",
             "startlinecolor": "#A2B1C6"
            },
            "type": "carpet"
           }
          ],
          "choropleth": [
           {
            "colorbar": {
             "outlinewidth": 0,
             "ticks": ""
            },
            "type": "choropleth"
           }
          ],
          "contour": [
           {
            "colorbar": {
             "outlinewidth": 0,
             "ticks": ""
            },
            "colorscale": [
             [
              0,
              "#0d0887"
             ],
             [
              0.1111111111111111,
              "#46039f"
             ],
             [
              0.2222222222222222,
              "#7201a8"
             ],
             [
              0.3333333333333333,
              "#9c179e"
             ],
             [
              0.4444444444444444,
              "#bd3786"
             ],
             [
              0.5555555555555556,
              "#d8576b"
             ],
             [
              0.6666666666666666,
              "#ed7953"
             ],
             [
              0.7777777777777778,
              "#fb9f3a"
             ],
             [
              0.8888888888888888,
              "#fdca26"
             ],
             [
              1,
              "#f0f921"
             ]
            ],
            "type": "contour"
           }
          ],
          "contourcarpet": [
           {
            "colorbar": {
             "outlinewidth": 0,
             "ticks": ""
            },
            "type": "contourcarpet"
           }
          ],
          "heatmap": [
           {
            "colorbar": {
             "outlinewidth": 0,
             "ticks": ""
            },
            "colorscale": [
             [
              0,
              "#0d0887"
             ],
             [
              0.1111111111111111,
              "#46039f"
             ],
             [
              0.2222222222222222,
              "#7201a8"
             ],
             [
              0.3333333333333333,
              "#9c179e"
             ],
             [
              0.4444444444444444,
              "#bd3786"
             ],
             [
              0.5555555555555556,
              "#d8576b"
             ],
             [
              0.6666666666666666,
              "#ed7953"
             ],
             [
              0.7777777777777778,
              "#fb9f3a"
             ],
             [
              0.8888888888888888,
              "#fdca26"
             ],
             [
              1,
              "#f0f921"
             ]
            ],
            "type": "heatmap"
           }
          ],
          "heatmapgl": [
           {
            "colorbar": {
             "outlinewidth": 0,
             "ticks": ""
            },
            "colorscale": [
             [
              0,
              "#0d0887"
             ],
             [
              0.1111111111111111,
              "#46039f"
             ],
             [
              0.2222222222222222,
              "#7201a8"
             ],
             [
              0.3333333333333333,
              "#9c179e"
             ],
             [
              0.4444444444444444,
              "#bd3786"
             ],
             [
              0.5555555555555556,
              "#d8576b"
             ],
             [
              0.6666666666666666,
              "#ed7953"
             ],
             [
              0.7777777777777778,
              "#fb9f3a"
             ],
             [
              0.8888888888888888,
              "#fdca26"
             ],
             [
              1,
              "#f0f921"
             ]
            ],
            "type": "heatmapgl"
           }
          ],
          "histogram": [
           {
            "marker": {
             "pattern": {
              "fillmode": "overlay",
              "size": 10,
              "solidity": 0.2
             }
            },
            "type": "histogram"
           }
          ],
          "histogram2d": [
           {
            "colorbar": {
             "outlinewidth": 0,
             "ticks": ""
            },
            "colorscale": [
             [
              0,
              "#0d0887"
             ],
             [
              0.1111111111111111,
              "#46039f"
             ],
             [
              0.2222222222222222,
              "#7201a8"
             ],
             [
              0.3333333333333333,
              "#9c179e"
             ],
             [
              0.4444444444444444,
              "#bd3786"
             ],
             [
              0.5555555555555556,
              "#d8576b"
             ],
             [
              0.6666666666666666,
              "#ed7953"
             ],
             [
              0.7777777777777778,
              "#fb9f3a"
             ],
             [
              0.8888888888888888,
              "#fdca26"
             ],
             [
              1,
              "#f0f921"
             ]
            ],
            "type": "histogram2d"
           }
          ],
          "histogram2dcontour": [
           {
            "colorbar": {
             "outlinewidth": 0,
             "ticks": ""
            },
            "colorscale": [
             [
              0,
              "#0d0887"
             ],
             [
              0.1111111111111111,
              "#46039f"
             ],
             [
              0.2222222222222222,
              "#7201a8"
             ],
             [
              0.3333333333333333,
              "#9c179e"
             ],
             [
              0.4444444444444444,
              "#bd3786"
             ],
             [
              0.5555555555555556,
              "#d8576b"
             ],
             [
              0.6666666666666666,
              "#ed7953"
             ],
             [
              0.7777777777777778,
              "#fb9f3a"
             ],
             [
              0.8888888888888888,
              "#fdca26"
             ],
             [
              1,
              "#f0f921"
             ]
            ],
            "type": "histogram2dcontour"
           }
          ],
          "mesh3d": [
           {
            "colorbar": {
             "outlinewidth": 0,
             "ticks": ""
            },
            "type": "mesh3d"
           }
          ],
          "parcoords": [
           {
            "line": {
             "colorbar": {
              "outlinewidth": 0,
              "ticks": ""
             }
            },
            "type": "parcoords"
           }
          ],
          "pie": [
           {
            "automargin": true,
            "type": "pie"
           }
          ],
          "scatter": [
           {
            "marker": {
             "line": {
              "color": "#283442"
             }
            },
            "type": "scatter"
           }
          ],
          "scatter3d": [
           {
            "line": {
             "colorbar": {
              "outlinewidth": 0,
              "ticks": ""
             }
            },
            "marker": {
             "colorbar": {
              "outlinewidth": 0,
              "ticks": ""
             }
            },
            "type": "scatter3d"
           }
          ],
          "scattercarpet": [
           {
            "marker": {
             "colorbar": {
              "outlinewidth": 0,
              "ticks": ""
             }
            },
            "type": "scattercarpet"
           }
          ],
          "scattergeo": [
           {
            "marker": {
             "colorbar": {
              "outlinewidth": 0,
              "ticks": ""
             }
            },
            "type": "scattergeo"
           }
          ],
          "scattergl": [
           {
            "marker": {
             "line": {
              "color": "#283442"
             }
            },
            "type": "scattergl"
           }
          ],
          "scattermapbox": [
           {
            "marker": {
             "colorbar": {
              "outlinewidth": 0,
              "ticks": ""
             }
            },
            "type": "scattermapbox"
           }
          ],
          "scatterpolar": [
           {
            "marker": {
             "colorbar": {
              "outlinewidth": 0,
              "ticks": ""
             }
            },
            "type": "scatterpolar"
           }
          ],
          "scatterpolargl": [
           {
            "marker": {
             "colorbar": {
              "outlinewidth": 0,
              "ticks": ""
             }
            },
            "type": "scatterpolargl"
           }
          ],
          "scatterternary": [
           {
            "marker": {
             "colorbar": {
              "outlinewidth": 0,
              "ticks": ""
             }
            },
            "type": "scatterternary"
           }
          ],
          "surface": [
           {
            "colorbar": {
             "outlinewidth": 0,
             "ticks": ""
            },
            "colorscale": [
             [
              0,
              "#0d0887"
             ],
             [
              0.1111111111111111,
              "#46039f"
             ],
             [
              0.2222222222222222,
              "#7201a8"
             ],
             [
              0.3333333333333333,
              "#9c179e"
             ],
             [
              0.4444444444444444,
              "#bd3786"
             ],
             [
              0.5555555555555556,
              "#d8576b"
             ],
             [
              0.6666666666666666,
              "#ed7953"
             ],
             [
              0.7777777777777778,
              "#fb9f3a"
             ],
             [
              0.8888888888888888,
              "#fdca26"
             ],
             [
              1,
              "#f0f921"
             ]
            ],
            "type": "surface"
           }
          ],
          "table": [
           {
            "cells": {
             "fill": {
              "color": "#506784"
             },
             "line": {
              "color": "rgb(17,17,17)"
             }
            },
            "header": {
             "fill": {
              "color": "#2a3f5f"
             },
             "line": {
              "color": "rgb(17,17,17)"
             }
            },
            "type": "table"
           }
          ]
         },
         "layout": {
          "annotationdefaults": {
           "arrowcolor": "#f2f5fa",
           "arrowhead": 0,
           "arrowwidth": 1
          },
          "autotypenumbers": "strict",
          "coloraxis": {
           "colorbar": {
            "outlinewidth": 0,
            "ticks": ""
           }
          },
          "colorscale": {
           "diverging": [
            [
             0,
             "#8e0152"
            ],
            [
             0.1,
             "#c51b7d"
            ],
            [
             0.2,
             "#de77ae"
            ],
            [
             0.3,
             "#f1b6da"
            ],
            [
             0.4,
             "#fde0ef"
            ],
            [
             0.5,
             "#f7f7f7"
            ],
            [
             0.6,
             "#e6f5d0"
            ],
            [
             0.7,
             "#b8e186"
            ],
            [
             0.8,
             "#7fbc41"
            ],
            [
             0.9,
             "#4d9221"
            ],
            [
             1,
             "#276419"
            ]
           ],
           "sequential": [
            [
             0,
             "#0d0887"
            ],
            [
             0.1111111111111111,
             "#46039f"
            ],
            [
             0.2222222222222222,
             "#7201a8"
            ],
            [
             0.3333333333333333,
             "#9c179e"
            ],
            [
             0.4444444444444444,
             "#bd3786"
            ],
            [
             0.5555555555555556,
             "#d8576b"
            ],
            [
             0.6666666666666666,
             "#ed7953"
            ],
            [
             0.7777777777777778,
             "#fb9f3a"
            ],
            [
             0.8888888888888888,
             "#fdca26"
            ],
            [
             1,
             "#f0f921"
            ]
           ],
           "sequentialminus": [
            [
             0,
             "#0d0887"
            ],
            [
             0.1111111111111111,
             "#46039f"
            ],
            [
             0.2222222222222222,
             "#7201a8"
            ],
            [
             0.3333333333333333,
             "#9c179e"
            ],
            [
             0.4444444444444444,
             "#bd3786"
            ],
            [
             0.5555555555555556,
             "#d8576b"
            ],
            [
             0.6666666666666666,
             "#ed7953"
            ],
            [
             0.7777777777777778,
             "#fb9f3a"
            ],
            [
             0.8888888888888888,
             "#fdca26"
            ],
            [
             1,
             "#f0f921"
            ]
           ]
          },
          "colorway": [
           "#636efa",
           "#EF553B",
           "#00cc96",
           "#ab63fa",
           "#FFA15A",
           "#19d3f3",
           "#FF6692",
           "#B6E880",
           "#FF97FF",
           "#FECB52"
          ],
          "font": {
           "color": "#f2f5fa"
          },
          "geo": {
           "bgcolor": "rgb(17,17,17)",
           "lakecolor": "rgb(17,17,17)",
           "landcolor": "rgb(17,17,17)",
           "showlakes": true,
           "showland": true,
           "subunitcolor": "#506784"
          },
          "hoverlabel": {
           "align": "left"
          },
          "hovermode": "closest",
          "mapbox": {
           "style": "dark"
          },
          "paper_bgcolor": "rgb(17,17,17)",
          "plot_bgcolor": "rgb(17,17,17)",
          "polar": {
           "angularaxis": {
            "gridcolor": "#506784",
            "linecolor": "#506784",
            "ticks": ""
           },
           "bgcolor": "rgb(17,17,17)",
           "radialaxis": {
            "gridcolor": "#506784",
            "linecolor": "#506784",
            "ticks": ""
           }
          },
          "scene": {
           "xaxis": {
            "backgroundcolor": "rgb(17,17,17)",
            "gridcolor": "#506784",
            "gridwidth": 2,
            "linecolor": "#506784",
            "showbackground": true,
            "ticks": "",
            "zerolinecolor": "#C8D4E3"
           },
           "yaxis": {
            "backgroundcolor": "rgb(17,17,17)",
            "gridcolor": "#506784",
            "gridwidth": 2,
            "linecolor": "#506784",
            "showbackground": true,
            "ticks": "",
            "zerolinecolor": "#C8D4E3"
           },
           "zaxis": {
            "backgroundcolor": "rgb(17,17,17)",
            "gridcolor": "#506784",
            "gridwidth": 2,
            "linecolor": "#506784",
            "showbackground": true,
            "ticks": "",
            "zerolinecolor": "#C8D4E3"
           }
          },
          "shapedefaults": {
           "line": {
            "color": "#f2f5fa"
           }
          },
          "sliderdefaults": {
           "bgcolor": "#C8D4E3",
           "bordercolor": "rgb(17,17,17)",
           "borderwidth": 1,
           "tickwidth": 0
          },
          "ternary": {
           "aaxis": {
            "gridcolor": "#506784",
            "linecolor": "#506784",
            "ticks": ""
           },
           "baxis": {
            "gridcolor": "#506784",
            "linecolor": "#506784",
            "ticks": ""
           },
           "bgcolor": "rgb(17,17,17)",
           "caxis": {
            "gridcolor": "#506784",
            "linecolor": "#506784",
            "ticks": ""
           }
          },
          "title": {
           "x": 0.05
          },
          "updatemenudefaults": {
           "bgcolor": "#506784",
           "borderwidth": 0
          },
          "xaxis": {
           "automargin": true,
           "gridcolor": "#283442",
           "linecolor": "#506784",
           "ticks": "",
           "title": {
            "standoff": 15
           },
           "zerolinecolor": "#283442",
           "zerolinewidth": 2
          },
          "yaxis": {
           "automargin": true,
           "gridcolor": "#283442",
           "linecolor": "#506784",
           "ticks": "",
           "title": {
            "standoff": 15
           },
           "zerolinecolor": "#283442",
           "zerolinewidth": 2
          }
         }
        },
        "width": 1000,
        "xaxis": {
         "anchor": "y",
         "domain": [
          0,
          1
         ],
         "title": {
          "text": "sex"
         }
        },
        "yaxis": {
         "anchor": "x",
         "domain": [
          0,
          1
         ],
         "title": {
          "text": "value"
         }
        }
       }
      }
     },
     "metadata": {},
     "output_type": "display_data"
    }
   ],
   "source": [
    "pe.bar(cross ,template=\"plotly_dark\" ,width=1000, height=600)"
   ]
  },
  {
   "cell_type": "code",
   "execution_count": 38,
   "metadata": {},
   "outputs": [
    {
     "data": {
      "application/vnd.plotly.v1+json": {
       "config": {
        "plotlyServerURL": "https://plot.ly"
       },
       "data": [
        {
         "alignmentgroup": "True",
         "hovertemplate": "sex=%{x}<br>thalachh=%{y}<extra></extra>",
         "legendgroup": "",
         "marker": {
          "color": "#636efa",
          "pattern": {
           "shape": ""
          }
         },
         "name": "",
         "offsetgroup": "",
         "orientation": "v",
         "showlegend": false,
         "textposition": "auto",
         "type": "bar",
         "x": [
          0,
          1
         ],
         "xaxis": "x",
         "y": [
          151.125,
          148.96135265700482
         ],
         "yaxis": "y"
        }
       ],
       "layout": {
        "barmode": "relative",
        "height": 500,
        "legend": {
         "tracegroupgap": 0
        },
        "template": {
         "data": {
          "bar": [
           {
            "error_x": {
             "color": "#f2f5fa"
            },
            "error_y": {
             "color": "#f2f5fa"
            },
            "marker": {
             "line": {
              "color": "rgb(17,17,17)",
              "width": 0.5
             },
             "pattern": {
              "fillmode": "overlay",
              "size": 10,
              "solidity": 0.2
             }
            },
            "type": "bar"
           }
          ],
          "barpolar": [
           {
            "marker": {
             "line": {
              "color": "rgb(17,17,17)",
              "width": 0.5
             },
             "pattern": {
              "fillmode": "overlay",
              "size": 10,
              "solidity": 0.2
             }
            },
            "type": "barpolar"
           }
          ],
          "carpet": [
           {
            "aaxis": {
             "endlinecolor": "#A2B1C6",
             "gridcolor": "#506784",
             "linecolor": "#506784",
             "minorgridcolor": "#506784",
             "startlinecolor": "#A2B1C6"
            },
            "baxis": {
             "endlinecolor": "#A2B1C6",
             "gridcolor": "#506784",
             "linecolor": "#506784",
             "minorgridcolor": "#506784",
             "startlinecolor": "#A2B1C6"
            },
            "type": "carpet"
           }
          ],
          "choropleth": [
           {
            "colorbar": {
             "outlinewidth": 0,
             "ticks": ""
            },
            "type": "choropleth"
           }
          ],
          "contour": [
           {
            "colorbar": {
             "outlinewidth": 0,
             "ticks": ""
            },
            "colorscale": [
             [
              0,
              "#0d0887"
             ],
             [
              0.1111111111111111,
              "#46039f"
             ],
             [
              0.2222222222222222,
              "#7201a8"
             ],
             [
              0.3333333333333333,
              "#9c179e"
             ],
             [
              0.4444444444444444,
              "#bd3786"
             ],
             [
              0.5555555555555556,
              "#d8576b"
             ],
             [
              0.6666666666666666,
              "#ed7953"
             ],
             [
              0.7777777777777778,
              "#fb9f3a"
             ],
             [
              0.8888888888888888,
              "#fdca26"
             ],
             [
              1,
              "#f0f921"
             ]
            ],
            "type": "contour"
           }
          ],
          "contourcarpet": [
           {
            "colorbar": {
             "outlinewidth": 0,
             "ticks": ""
            },
            "type": "contourcarpet"
           }
          ],
          "heatmap": [
           {
            "colorbar": {
             "outlinewidth": 0,
             "ticks": ""
            },
            "colorscale": [
             [
              0,
              "#0d0887"
             ],
             [
              0.1111111111111111,
              "#46039f"
             ],
             [
              0.2222222222222222,
              "#7201a8"
             ],
             [
              0.3333333333333333,
              "#9c179e"
             ],
             [
              0.4444444444444444,
              "#bd3786"
             ],
             [
              0.5555555555555556,
              "#d8576b"
             ],
             [
              0.6666666666666666,
              "#ed7953"
             ],
             [
              0.7777777777777778,
              "#fb9f3a"
             ],
             [
              0.8888888888888888,
              "#fdca26"
             ],
             [
              1,
              "#f0f921"
             ]
            ],
            "type": "heatmap"
           }
          ],
          "heatmapgl": [
           {
            "colorbar": {
             "outlinewidth": 0,
             "ticks": ""
            },
            "colorscale": [
             [
              0,
              "#0d0887"
             ],
             [
              0.1111111111111111,
              "#46039f"
             ],
             [
              0.2222222222222222,
              "#7201a8"
             ],
             [
              0.3333333333333333,
              "#9c179e"
             ],
             [
              0.4444444444444444,
              "#bd3786"
             ],
             [
              0.5555555555555556,
              "#d8576b"
             ],
             [
              0.6666666666666666,
              "#ed7953"
             ],
             [
              0.7777777777777778,
              "#fb9f3a"
             ],
             [
              0.8888888888888888,
              "#fdca26"
             ],
             [
              1,
              "#f0f921"
             ]
            ],
            "type": "heatmapgl"
           }
          ],
          "histogram": [
           {
            "marker": {
             "pattern": {
              "fillmode": "overlay",
              "size": 10,
              "solidity": 0.2
             }
            },
            "type": "histogram"
           }
          ],
          "histogram2d": [
           {
            "colorbar": {
             "outlinewidth": 0,
             "ticks": ""
            },
            "colorscale": [
             [
              0,
              "#0d0887"
             ],
             [
              0.1111111111111111,
              "#46039f"
             ],
             [
              0.2222222222222222,
              "#7201a8"
             ],
             [
              0.3333333333333333,
              "#9c179e"
             ],
             [
              0.4444444444444444,
              "#bd3786"
             ],
             [
              0.5555555555555556,
              "#d8576b"
             ],
             [
              0.6666666666666666,
              "#ed7953"
             ],
             [
              0.7777777777777778,
              "#fb9f3a"
             ],
             [
              0.8888888888888888,
              "#fdca26"
             ],
             [
              1,
              "#f0f921"
             ]
            ],
            "type": "histogram2d"
           }
          ],
          "histogram2dcontour": [
           {
            "colorbar": {
             "outlinewidth": 0,
             "ticks": ""
            },
            "colorscale": [
             [
              0,
              "#0d0887"
             ],
             [
              0.1111111111111111,
              "#46039f"
             ],
             [
              0.2222222222222222,
              "#7201a8"
             ],
             [
              0.3333333333333333,
              "#9c179e"
             ],
             [
              0.4444444444444444,
              "#bd3786"
             ],
             [
              0.5555555555555556,
              "#d8576b"
             ],
             [
              0.6666666666666666,
              "#ed7953"
             ],
             [
              0.7777777777777778,
              "#fb9f3a"
             ],
             [
              0.8888888888888888,
              "#fdca26"
             ],
             [
              1,
              "#f0f921"
             ]
            ],
            "type": "histogram2dcontour"
           }
          ],
          "mesh3d": [
           {
            "colorbar": {
             "outlinewidth": 0,
             "ticks": ""
            },
            "type": "mesh3d"
           }
          ],
          "parcoords": [
           {
            "line": {
             "colorbar": {
              "outlinewidth": 0,
              "ticks": ""
             }
            },
            "type": "parcoords"
           }
          ],
          "pie": [
           {
            "automargin": true,
            "type": "pie"
           }
          ],
          "scatter": [
           {
            "marker": {
             "line": {
              "color": "#283442"
             }
            },
            "type": "scatter"
           }
          ],
          "scatter3d": [
           {
            "line": {
             "colorbar": {
              "outlinewidth": 0,
              "ticks": ""
             }
            },
            "marker": {
             "colorbar": {
              "outlinewidth": 0,
              "ticks": ""
             }
            },
            "type": "scatter3d"
           }
          ],
          "scattercarpet": [
           {
            "marker": {
             "colorbar": {
              "outlinewidth": 0,
              "ticks": ""
             }
            },
            "type": "scattercarpet"
           }
          ],
          "scattergeo": [
           {
            "marker": {
             "colorbar": {
              "outlinewidth": 0,
              "ticks": ""
             }
            },
            "type": "scattergeo"
           }
          ],
          "scattergl": [
           {
            "marker": {
             "line": {
              "color": "#283442"
             }
            },
            "type": "scattergl"
           }
          ],
          "scattermapbox": [
           {
            "marker": {
             "colorbar": {
              "outlinewidth": 0,
              "ticks": ""
             }
            },
            "type": "scattermapbox"
           }
          ],
          "scatterpolar": [
           {
            "marker": {
             "colorbar": {
              "outlinewidth": 0,
              "ticks": ""
             }
            },
            "type": "scatterpolar"
           }
          ],
          "scatterpolargl": [
           {
            "marker": {
             "colorbar": {
              "outlinewidth": 0,
              "ticks": ""
             }
            },
            "type": "scatterpolargl"
           }
          ],
          "scatterternary": [
           {
            "marker": {
             "colorbar": {
              "outlinewidth": 0,
              "ticks": ""
             }
            },
            "type": "scatterternary"
           }
          ],
          "surface": [
           {
            "colorbar": {
             "outlinewidth": 0,
             "ticks": ""
            },
            "colorscale": [
             [
              0,
              "#0d0887"
             ],
             [
              0.1111111111111111,
              "#46039f"
             ],
             [
              0.2222222222222222,
              "#7201a8"
             ],
             [
              0.3333333333333333,
              "#9c179e"
             ],
             [
              0.4444444444444444,
              "#bd3786"
             ],
             [
              0.5555555555555556,
              "#d8576b"
             ],
             [
              0.6666666666666666,
              "#ed7953"
             ],
             [
              0.7777777777777778,
              "#fb9f3a"
             ],
             [
              0.8888888888888888,
              "#fdca26"
             ],
             [
              1,
              "#f0f921"
             ]
            ],
            "type": "surface"
           }
          ],
          "table": [
           {
            "cells": {
             "fill": {
              "color": "#506784"
             },
             "line": {
              "color": "rgb(17,17,17)"
             }
            },
            "header": {
             "fill": {
              "color": "#2a3f5f"
             },
             "line": {
              "color": "rgb(17,17,17)"
             }
            },
            "type": "table"
           }
          ]
         },
         "layout": {
          "annotationdefaults": {
           "arrowcolor": "#f2f5fa",
           "arrowhead": 0,
           "arrowwidth": 1
          },
          "autotypenumbers": "strict",
          "coloraxis": {
           "colorbar": {
            "outlinewidth": 0,
            "ticks": ""
           }
          },
          "colorscale": {
           "diverging": [
            [
             0,
             "#8e0152"
            ],
            [
             0.1,
             "#c51b7d"
            ],
            [
             0.2,
             "#de77ae"
            ],
            [
             0.3,
             "#f1b6da"
            ],
            [
             0.4,
             "#fde0ef"
            ],
            [
             0.5,
             "#f7f7f7"
            ],
            [
             0.6,
             "#e6f5d0"
            ],
            [
             0.7,
             "#b8e186"
            ],
            [
             0.8,
             "#7fbc41"
            ],
            [
             0.9,
             "#4d9221"
            ],
            [
             1,
             "#276419"
            ]
           ],
           "sequential": [
            [
             0,
             "#0d0887"
            ],
            [
             0.1111111111111111,
             "#46039f"
            ],
            [
             0.2222222222222222,
             "#7201a8"
            ],
            [
             0.3333333333333333,
             "#9c179e"
            ],
            [
             0.4444444444444444,
             "#bd3786"
            ],
            [
             0.5555555555555556,
             "#d8576b"
            ],
            [
             0.6666666666666666,
             "#ed7953"
            ],
            [
             0.7777777777777778,
             "#fb9f3a"
            ],
            [
             0.8888888888888888,
             "#fdca26"
            ],
            [
             1,
             "#f0f921"
            ]
           ],
           "sequentialminus": [
            [
             0,
             "#0d0887"
            ],
            [
             0.1111111111111111,
             "#46039f"
            ],
            [
             0.2222222222222222,
             "#7201a8"
            ],
            [
             0.3333333333333333,
             "#9c179e"
            ],
            [
             0.4444444444444444,
             "#bd3786"
            ],
            [
             0.5555555555555556,
             "#d8576b"
            ],
            [
             0.6666666666666666,
             "#ed7953"
            ],
            [
             0.7777777777777778,
             "#fb9f3a"
            ],
            [
             0.8888888888888888,
             "#fdca26"
            ],
            [
             1,
             "#f0f921"
            ]
           ]
          },
          "colorway": [
           "#636efa",
           "#EF553B",
           "#00cc96",
           "#ab63fa",
           "#FFA15A",
           "#19d3f3",
           "#FF6692",
           "#B6E880",
           "#FF97FF",
           "#FECB52"
          ],
          "font": {
           "color": "#f2f5fa"
          },
          "geo": {
           "bgcolor": "rgb(17,17,17)",
           "lakecolor": "rgb(17,17,17)",
           "landcolor": "rgb(17,17,17)",
           "showlakes": true,
           "showland": true,
           "subunitcolor": "#506784"
          },
          "hoverlabel": {
           "align": "left"
          },
          "hovermode": "closest",
          "mapbox": {
           "style": "dark"
          },
          "paper_bgcolor": "rgb(17,17,17)",
          "plot_bgcolor": "rgb(17,17,17)",
          "polar": {
           "angularaxis": {
            "gridcolor": "#506784",
            "linecolor": "#506784",
            "ticks": ""
           },
           "bgcolor": "rgb(17,17,17)",
           "radialaxis": {
            "gridcolor": "#506784",
            "linecolor": "#506784",
            "ticks": ""
           }
          },
          "scene": {
           "xaxis": {
            "backgroundcolor": "rgb(17,17,17)",
            "gridcolor": "#506784",
            "gridwidth": 2,
            "linecolor": "#506784",
            "showbackground": true,
            "ticks": "",
            "zerolinecolor": "#C8D4E3"
           },
           "yaxis": {
            "backgroundcolor": "rgb(17,17,17)",
            "gridcolor": "#506784",
            "gridwidth": 2,
            "linecolor": "#506784",
            "showbackground": true,
            "ticks": "",
            "zerolinecolor": "#C8D4E3"
           },
           "zaxis": {
            "backgroundcolor": "rgb(17,17,17)",
            "gridcolor": "#506784",
            "gridwidth": 2,
            "linecolor": "#506784",
            "showbackground": true,
            "ticks": "",
            "zerolinecolor": "#C8D4E3"
           }
          },
          "shapedefaults": {
           "line": {
            "color": "#f2f5fa"
           }
          },
          "sliderdefaults": {
           "bgcolor": "#C8D4E3",
           "bordercolor": "rgb(17,17,17)",
           "borderwidth": 1,
           "tickwidth": 0
          },
          "ternary": {
           "aaxis": {
            "gridcolor": "#506784",
            "linecolor": "#506784",
            "ticks": ""
           },
           "baxis": {
            "gridcolor": "#506784",
            "linecolor": "#506784",
            "ticks": ""
           },
           "bgcolor": "rgb(17,17,17)",
           "caxis": {
            "gridcolor": "#506784",
            "linecolor": "#506784",
            "ticks": ""
           }
          },
          "title": {
           "x": 0.05
          },
          "updatemenudefaults": {
           "bgcolor": "#506784",
           "borderwidth": 0
          },
          "xaxis": {
           "automargin": true,
           "gridcolor": "#283442",
           "linecolor": "#506784",
           "ticks": "",
           "title": {
            "standoff": 15
           },
           "zerolinecolor": "#283442",
           "zerolinewidth": 2
          },
          "yaxis": {
           "automargin": true,
           "gridcolor": "#283442",
           "linecolor": "#506784",
           "ticks": "",
           "title": {
            "standoff": 15
           },
           "zerolinecolor": "#283442",
           "zerolinewidth": 2
          }
         }
        },
        "title": {
         "text": "Mean values of heart rate "
        },
        "width": 1000,
        "xaxis": {
         "anchor": "y",
         "domain": [
          0,
          1
         ],
         "title": {
          "text": "sex"
         }
        },
        "yaxis": {
         "anchor": "x",
         "domain": [
          0,
          1
         ],
         "title": {
          "text": "thalachh"
         }
        }
       }
      }
     },
     "metadata": {},
     "output_type": "display_data"
    }
   ],
   "source": [
    "gr = df.groupby(\"sex\", as_index=False)[\"thalachh\"].mean()\n",
    "gr\n",
    "pe.bar(gr , x=\"sex\" ,y=\"thalachh\" , width=1000 , height=500 , template=\"plotly_dark\" , title=\"Mean values of heart rate \")"
   ]
  },
  {
   "attachments": {},
   "cell_type": "markdown",
   "metadata": {},
   "source": [
    "<p style=\"color:#13e010 ; font-size:large\">\n",
    "Here We Cant Find Any Correlation Over 75% So We Will Not Eliminate Any Feature"
   ]
  },
  {
   "cell_type": "code",
   "execution_count": 7,
   "metadata": {},
   "outputs": [
    {
     "data": {
      "image/png": "[encoded data removed]",
      "text/plain": [
       "<Figure size 1080x576 with 2 Axes>"
      ]
     },
     "metadata": {
      "needs_background": "light"
     },
     "output_type": "display_data"
    }
   ],
   "source": [
    "plt.figure(figsize=(15,8))\n",
    "dataplot = sb.heatmap(df.corr(method ='pearson'), annot=True)"
   ]
  },
  {
   "cell_type": "code",
   "execution_count": 8,
   "metadata": {},
   "outputs": [
    {
     "data": {
      "text/html": [
       "<style type=\"text/css\">\n",
       "#T_c4de1_row0_col0 {\n",
       "  background-color: #fff5f0;\n",
       "  color: #000000;\n",
       "}\n",
       "#T_c4de1_row0_col1 {\n",
       "  background-color: #ec382b;\n",
       "  color: #f1f1f1;\n",
       "}\n",
       "#T_c4de1_row1_col0 {\n",
       "  background-color: #fff2ec;\n",
       "  color: #000000;\n",
       "}\n",
       "#T_c4de1_row1_col1, #T_c4de1_row6_col1 {\n",
       "  background-color: #f14130;\n",
       "  color: #f1f1f1;\n",
       "}\n",
       "#T_c4de1_row2_col0 {\n",
       "  background-color: #fff2eb;\n",
       "  color: #000000;\n",
       "}\n",
       "#T_c4de1_row2_col1 {\n",
       "  background-color: #e22e27;\n",
       "  color: #f1f1f1;\n",
       "}\n",
       "#T_c4de1_row3_col0 {\n",
       "  background-color: #fff0e9;\n",
       "  color: #000000;\n",
       "}\n",
       "#T_c4de1_row3_col1 {\n",
       "  background-color: #ce1a1e;\n",
       "  color: #f1f1f1;\n",
       "}\n",
       "#T_c4de1_row4_col0 {\n",
       "  background-color: #fff0e8;\n",
       "  color: #000000;\n",
       "}\n",
       "#T_c4de1_row4_col1 {\n",
       "  background-color: #f14432;\n",
       "  color: #f1f1f1;\n",
       "}\n",
       "#T_c4de1_row5_col0 {\n",
       "  background-color: #ffefe8;\n",
       "  color: #000000;\n",
       "}\n",
       "#T_c4de1_row5_col1, #T_c4de1_row25_col1 {\n",
       "  background-color: #c5171c;\n",
       "  color: #f1f1f1;\n",
       "}\n",
       "#T_c4de1_row6_col0 {\n",
       "  background-color: #ffeee7;\n",
       "  color: #000000;\n",
       "}\n",
       "#T_c4de1_row7_col0 {\n",
       "  background-color: #ffeee6;\n",
       "  color: #000000;\n",
       "}\n",
       "#T_c4de1_row7_col1 {\n",
       "  background-color: #da2723;\n",
       "  color: #f1f1f1;\n",
       "}\n",
       "#T_c4de1_row8_col0 {\n",
       "  background-color: #ffede5;\n",
       "  color: #000000;\n",
       "}\n",
       "#T_c4de1_row8_col1, #T_c4de1_row13_col1 {\n",
       "  background-color: #be151a;\n",
       "  color: #f1f1f1;\n",
       "}\n",
       "#T_c4de1_row9_col0, #T_c4de1_row10_col0 {\n",
       "  background-color: #ffece4;\n",
       "  color: #000000;\n",
       "}\n",
       "#T_c4de1_row9_col1 {\n",
       "  background-color: #b21218;\n",
       "  color: #f1f1f1;\n",
       "}\n",
       "#T_c4de1_row10_col1 {\n",
       "  background-color: #d92523;\n",
       "  color: #f1f1f1;\n",
       "}\n",
       "#T_c4de1_row11_col0 {\n",
       "  background-color: #ffece3;\n",
       "  color: #000000;\n",
       "}\n",
       "#T_c4de1_row11_col1 {\n",
       "  background-color: #bd151a;\n",
       "  color: #f1f1f1;\n",
       "}\n",
       "#T_c4de1_row12_col0 {\n",
       "  background-color: #ffebe2;\n",
       "  color: #000000;\n",
       "}\n",
       "#T_c4de1_row12_col1 {\n",
       "  background-color: #d01d1f;\n",
       "  color: #f1f1f1;\n",
       "}\n",
       "#T_c4de1_row13_col0 {\n",
       "  background-color: #feeae1;\n",
       "  color: #000000;\n",
       "}\n",
       "#T_c4de1_row14_col0 {\n",
       "  background-color: #feeae0;\n",
       "  color: #000000;\n",
       "}\n",
       "#T_c4de1_row14_col1 {\n",
       "  background-color: #b91419;\n",
       "  color: #f1f1f1;\n",
       "}\n",
       "#T_c4de1_row15_col0 {\n",
       "  background-color: #fee9df;\n",
       "  color: #000000;\n",
       "}\n",
       "#T_c4de1_row15_col1, #T_c4de1_row18_col1 {\n",
       "  background-color: #d21f20;\n",
       "  color: #f1f1f1;\n",
       "}\n",
       "#T_c4de1_row16_col0 {\n",
       "  background-color: #fee8de;\n",
       "  color: #000000;\n",
       "}\n",
       "#T_c4de1_row16_col1 {\n",
       "  background-color: #d32020;\n",
       "  color: #f1f1f1;\n",
       "}\n",
       "#T_c4de1_row17_col0 {\n",
       "  background-color: #fee8dd;\n",
       "  color: #000000;\n",
       "}\n",
       "#T_c4de1_row17_col1, #T_c4de1_row29_col1 {\n",
       "  background-color: #b11218;\n",
       "  color: #f1f1f1;\n",
       "}\n",
       "#T_c4de1_row18_col0 {\n",
       "  background-color: #fee7dc;\n",
       "  color: #000000;\n",
       "}\n",
       "#T_c4de1_row19_col0 {\n",
       "  background-color: #fee7db;\n",
       "  color: #000000;\n",
       "}\n",
       "#T_c4de1_row19_col1 {\n",
       "  background-color: #cc191e;\n",
       "  color: #f1f1f1;\n",
       "}\n",
       "#T_c4de1_row20_col0 {\n",
       "  background-color: #fee6da;\n",
       "  color: #000000;\n",
       "}\n",
       "#T_c4de1_row20_col1, #T_c4de1_row36_col1 {\n",
       "  background-color: #b71319;\n",
       "  color: #f1f1f1;\n",
       "}\n",
       "#T_c4de1_row21_col0 {\n",
       "  background-color: #fee5d9;\n",
       "  color: #000000;\n",
       "}\n",
       "#T_c4de1_row21_col1 {\n",
       "  background-color: #900a12;\n",
       "  color: #f1f1f1;\n",
       "}\n",
       "#T_c4de1_row22_col0 {\n",
       "  background-color: #fee5d8;\n",
       "  color: #000000;\n",
       "}\n",
       "#T_c4de1_row22_col1 {\n",
       "  background-color: #b01217;\n",
       "  color: #f1f1f1;\n",
       "}\n",
       "#T_c4de1_row23_col0, #T_c4de1_row24_col0 {\n",
       "  background-color: #fee4d8;\n",
       "  color: #000000;\n",
       "}\n",
       "#T_c4de1_row23_col1, #T_c4de1_row34_col1, #T_c4de1_row37_col1 {\n",
       "  background-color: #c7171c;\n",
       "  color: #f1f1f1;\n",
       "}\n",
       "#T_c4de1_row24_col1 {\n",
       "  background-color: #b61319;\n",
       "  color: #f1f1f1;\n",
       "}\n",
       "#T_c4de1_row25_col0 {\n",
       "  background-color: #fee3d7;\n",
       "  color: #000000;\n",
       "}\n",
       "#T_c4de1_row26_col0 {\n",
       "  background-color: #fee3d6;\n",
       "  color: #000000;\n",
       "}\n",
       "#T_c4de1_row26_col1, #T_c4de1_row32_col1 {\n",
       "  background-color: #bf151b;\n",
       "  color: #f1f1f1;\n",
       "}\n",
       "#T_c4de1_row27_col0 {\n",
       "  background-color: #fee2d5;\n",
       "  color: #000000;\n",
       "}\n",
       "#T_c4de1_row27_col1 {\n",
       "  background-color: #c2161b;\n",
       "  color: #f1f1f1;\n",
       "}\n",
       "#T_c4de1_row28_col0 {\n",
       "  background-color: #fee1d4;\n",
       "  color: #000000;\n",
       "}\n",
       "#T_c4de1_row28_col1 {\n",
       "  background-color: #b31218;\n",
       "  color: #f1f1f1;\n",
       "}\n",
       "#T_c4de1_row29_col0 {\n",
       "  background-color: #fee1d3;\n",
       "  color: #000000;\n",
       "}\n",
       "#T_c4de1_row30_col0 {\n",
       "  background-color: #fee0d2;\n",
       "  color: #000000;\n",
       "}\n",
       "#T_c4de1_row30_col1 {\n",
       "  background-color: #9c0d14;\n",
       "  color: #f1f1f1;\n",
       "}\n",
       "#T_c4de1_row31_col0 {\n",
       "  background-color: #fedfd0;\n",
       "  color: #000000;\n",
       "}\n",
       "#T_c4de1_row31_col1 {\n",
       "  background-color: #940b13;\n",
       "  color: #f1f1f1;\n",
       "}\n",
       "#T_c4de1_row32_col0 {\n",
       "  background-color: #fedecf;\n",
       "  color: #000000;\n",
       "}\n",
       "#T_c4de1_row33_col0 {\n",
       "  background-color: #fedccd;\n",
       "  color: #000000;\n",
       "}\n",
       "#T_c4de1_row33_col1 {\n",
       "  background-color: #860811;\n",
       "  color: #f1f1f1;\n",
       "}\n",
       "#T_c4de1_row34_col0 {\n",
       "  background-color: #fedbcc;\n",
       "  color: #000000;\n",
       "}\n",
       "#T_c4de1_row35_col0 {\n",
       "  background-color: #fedaca;\n",
       "  color: #000000;\n",
       "}\n",
       "#T_c4de1_row35_col1 {\n",
       "  background-color: #c3161b;\n",
       "  color: #f1f1f1;\n",
       "}\n",
       "#T_c4de1_row36_col0 {\n",
       "  background-color: #fed9c9;\n",
       "  color: #000000;\n",
       "}\n",
       "#T_c4de1_row37_col0 {\n",
       "  background-color: #fed8c7;\n",
       "  color: #000000;\n",
       "}\n",
       "#T_c4de1_row38_col0 {\n",
       "  background-color: #fdd5c4;\n",
       "  color: #000000;\n",
       "}\n",
       "#T_c4de1_row38_col1 {\n",
       "  background-color: #a50f15;\n",
       "  color: #f1f1f1;\n",
       "}\n",
       "#T_c4de1_row39_col0 {\n",
       "  background-color: #fdd3c1;\n",
       "  color: #000000;\n",
       "}\n",
       "#T_c4de1_row39_col1 {\n",
       "  background-color: #f0402f;\n",
       "  color: #f1f1f1;\n",
       "}\n",
       "#T_c4de1_row40_col0 {\n",
       "  background-color: #fdd2bf;\n",
       "  color: #000000;\n",
       "}\n",
       "#T_c4de1_row40_col1 {\n",
       "  background-color: #67000d;\n",
       "  color: #f1f1f1;\n",
       "}\n",
       "</style>\n",
       "<table id=\"T_c4de1\">\n",
       "  <thead>\n",
       "    <tr>\n",
       "      <th class=\"blank level0\" >&nbsp;</th>\n",
       "      <th id=\"T_c4de1_level0_col0\" class=\"col_heading level0 col0\" >age</th>\n",
       "      <th id=\"T_c4de1_level0_col1\" class=\"col_heading level0 col1\" >chol</th>\n",
       "    </tr>\n",
       "  </thead>\n",
       "  <tbody>\n",
       "    <tr>\n",
       "      <th id=\"T_c4de1_level0_row0\" class=\"row_heading level0 row0\" >0</th>\n",
       "      <td id=\"T_c4de1_row0_col0\" class=\"data row0 col0\" >29</td>\n",
       "      <td id=\"T_c4de1_row0_col1\" class=\"data row0 col1\" >204.000000</td>\n",
       "    </tr>\n",
       "    <tr>\n",
       "      <th id=\"T_c4de1_level0_row1\" class=\"row_heading level0 row1\" >1</th>\n",
       "      <td id=\"T_c4de1_row1_col0\" class=\"data row1 col0\" >34</td>\n",
       "      <td id=\"T_c4de1_row1_col1\" class=\"data row1 col1\" >196.000000</td>\n",
       "    </tr>\n",
       "    <tr>\n",
       "      <th id=\"T_c4de1_level0_row2\" class=\"row_heading level0 row2\" >2</th>\n",
       "      <td id=\"T_c4de1_row2_col0\" class=\"data row2 col0\" >35</td>\n",
       "      <td id=\"T_c4de1_row2_col1\" class=\"data row2 col1\" >213.750000</td>\n",
       "    </tr>\n",
       "    <tr>\n",
       "      <th id=\"T_c4de1_level0_row3\" class=\"row_heading level0 row3\" >3</th>\n",
       "      <td id=\"T_c4de1_row3_col0\" class=\"data row3 col0\" >37</td>\n",
       "      <td id=\"T_c4de1_row3_col1\" class=\"data row3 col1\" >232.500000</td>\n",
       "    </tr>\n",
       "    <tr>\n",
       "      <th id=\"T_c4de1_level0_row4\" class=\"row_heading level0 row4\" >4</th>\n",
       "      <td id=\"T_c4de1_row4_col0\" class=\"data row4 col0\" >38</td>\n",
       "      <td id=\"T_c4de1_row4_col1\" class=\"data row4 col1\" >193.666667</td>\n",
       "    </tr>\n",
       "    <tr>\n",
       "      <th id=\"T_c4de1_level0_row5\" class=\"row_heading level0 row5\" >5</th>\n",
       "      <td id=\"T_c4de1_row5_col0\" class=\"data row5 col0\" >39</td>\n",
       "      <td id=\"T_c4de1_row5_col1\" class=\"data row5 col1\" >239.750000</td>\n",
       "    </tr>\n",
       "    <tr>\n",
       "      <th id=\"T_c4de1_level0_row6\" class=\"row_heading level0 row6\" >6</th>\n",
       "      <td id=\"T_c4de1_row6_col0\" class=\"data row6 col0\" >40</td>\n",
       "      <td id=\"T_c4de1_row6_col1\" class=\"data row6 col1\" >196.333333</td>\n",
       "    </tr>\n",
       "    <tr>\n",
       "      <th id=\"T_c4de1_level0_row7\" class=\"row_heading level0 row7\" >7</th>\n",
       "      <td id=\"T_c4de1_row7_col0\" class=\"data row7 col0\" >41</td>\n",
       "      <td id=\"T_c4de1_row7_col1\" class=\"data row7 col1\" >220.700000</td>\n",
       "    </tr>\n",
       "    <tr>\n",
       "      <th id=\"T_c4de1_level0_row8\" class=\"row_heading level0 row8\" >8</th>\n",
       "      <td id=\"T_c4de1_row8_col0\" class=\"data row8 col0\" >42</td>\n",
       "      <td id=\"T_c4de1_row8_col1\" class=\"data row8 col1\" >246.750000</td>\n",
       "    </tr>\n",
       "    <tr>\n",
       "      <th id=\"T_c4de1_level0_row9\" class=\"row_heading level0 row9\" >9</th>\n",
       "      <td id=\"T_c4de1_row9_col0\" class=\"data row9 col0\" >43</td>\n",
       "      <td id=\"T_c4de1_row9_col1\" class=\"data row9 col1\" >256.750000</td>\n",
       "    </tr>\n",
       "    <tr>\n",
       "      <th id=\"T_c4de1_level0_row10\" class=\"row_heading level0 row10\" >10</th>\n",
       "      <td id=\"T_c4de1_row10_col0\" class=\"data row10 col0\" >44</td>\n",
       "      <td id=\"T_c4de1_row10_col1\" class=\"data row10 col1\" >221.363636</td>\n",
       "    </tr>\n",
       "    <tr>\n",
       "      <th id=\"T_c4de1_level0_row11\" class=\"row_heading level0 row11\" >11</th>\n",
       "      <td id=\"T_c4de1_row11_col0\" class=\"data row11 col0\" >45</td>\n",
       "      <td id=\"T_c4de1_row11_col1\" class=\"data row11 col1\" >247.375000</td>\n",
       "    </tr>\n",
       "    <tr>\n",
       "      <th id=\"T_c4de1_level0_row12\" class=\"row_heading level0 row12\" >12</th>\n",
       "      <td id=\"T_c4de1_row12_col0\" class=\"data row12 col0\" >46</td>\n",
       "      <td id=\"T_c4de1_row12_col1\" class=\"data row12 col1\" >230.285714</td>\n",
       "    </tr>\n",
       "    <tr>\n",
       "      <th id=\"T_c4de1_level0_row13\" class=\"row_heading level0 row13\" >13</th>\n",
       "      <td id=\"T_c4de1_row13_col0\" class=\"data row13 col0\" >47</td>\n",
       "      <td id=\"T_c4de1_row13_col1\" class=\"data row13 col1\" >246.400000</td>\n",
       "    </tr>\n",
       "    <tr>\n",
       "      <th id=\"T_c4de1_level0_row14\" class=\"row_heading level0 row14\" >14</th>\n",
       "      <td id=\"T_c4de1_row14_col0\" class=\"data row14 col0\" >48</td>\n",
       "      <td id=\"T_c4de1_row14_col1\" class=\"data row14 col1\" >250.857143</td>\n",
       "    </tr>\n",
       "    <tr>\n",
       "      <th id=\"T_c4de1_level0_row15\" class=\"row_heading level0 row15\" >15</th>\n",
       "      <td id=\"T_c4de1_row15_col0\" class=\"data row15 col0\" >49</td>\n",
       "      <td id=\"T_c4de1_row15_col1\" class=\"data row15 col1\" >228.600000</td>\n",
       "    </tr>\n",
       "    <tr>\n",
       "      <th id=\"T_c4de1_level0_row16\" class=\"row_heading level0 row16\" >16</th>\n",
       "      <td id=\"T_c4de1_row16_col0\" class=\"data row16 col0\" >50</td>\n",
       "      <td id=\"T_c4de1_row16_col1\" class=\"data row16 col1\" >227.000000</td>\n",
       "    </tr>\n",
       "    <tr>\n",
       "      <th id=\"T_c4de1_level0_row17\" class=\"row_heading level0 row17\" >17</th>\n",
       "      <td id=\"T_c4de1_row17_col0\" class=\"data row17 col0\" >51</td>\n",
       "      <td id=\"T_c4de1_row17_col1\" class=\"data row17 col1\" >258.666667</td>\n",
       "    </tr>\n",
       "    <tr>\n",
       "      <th id=\"T_c4de1_level0_row18\" class=\"row_heading level0 row18\" >18</th>\n",
       "      <td id=\"T_c4de1_row18_col0\" class=\"data row18 col0\" >52</td>\n",
       "      <td id=\"T_c4de1_row18_col1\" class=\"data row18 col1\" >228.230769</td>\n",
       "    </tr>\n",
       "    <tr>\n",
       "      <th id=\"T_c4de1_level0_row19\" class=\"row_heading level0 row19\" >19</th>\n",
       "      <td id=\"T_c4de1_row19_col0\" class=\"data row19 col0\" >53</td>\n",
       "      <td id=\"T_c4de1_row19_col1\" class=\"data row19 col1\" >233.500000</td>\n",
       "    </tr>\n",
       "    <tr>\n",
       "      <th id=\"T_c4de1_level0_row20\" class=\"row_heading level0 row20\" >20</th>\n",
       "      <td id=\"T_c4de1_row20_col0\" class=\"data row20 col0\" >54</td>\n",
       "      <td id=\"T_c4de1_row20_col1\" class=\"data row20 col1\" >253.312500</td>\n",
       "    </tr>\n",
       "    <tr>\n",
       "      <th id=\"T_c4de1_level0_row21\" class=\"row_heading level0 row21\" >21</th>\n",
       "      <td id=\"T_c4de1_row21_col0\" class=\"data row21 col0\" >55</td>\n",
       "      <td id=\"T_c4de1_row21_col1\" class=\"data row21 col1\" >280.625000</td>\n",
       "    </tr>\n",
       "    <tr>\n",
       "      <th id=\"T_c4de1_level0_row22\" class=\"row_heading level0 row22\" >22</th>\n",
       "      <td id=\"T_c4de1_row22_col0\" class=\"data row22 col0\" >56</td>\n",
       "      <td id=\"T_c4de1_row22_col1\" class=\"data row22 col1\" >259.363636</td>\n",
       "    </tr>\n",
       "    <tr>\n",
       "      <th id=\"T_c4de1_level0_row23\" class=\"row_heading level0 row23\" >23</th>\n",
       "      <td id=\"T_c4de1_row23_col0\" class=\"data row23 col0\" >57</td>\n",
       "      <td id=\"T_c4de1_row23_col1\" class=\"data row23 col1\" >238.529412</td>\n",
       "    </tr>\n",
       "    <tr>\n",
       "      <th id=\"T_c4de1_level0_row24\" class=\"row_heading level0 row24\" >24</th>\n",
       "      <td id=\"T_c4de1_row24_col0\" class=\"data row24 col0\" >58</td>\n",
       "      <td id=\"T_c4de1_row24_col1\" class=\"data row24 col1\" >254.526316</td>\n",
       "    </tr>\n",
       "    <tr>\n",
       "      <th id=\"T_c4de1_level0_row25\" class=\"row_heading level0 row25\" >25</th>\n",
       "      <td id=\"T_c4de1_row25_col0\" class=\"data row25 col0\" >59</td>\n",
       "      <td id=\"T_c4de1_row25_col1\" class=\"data row25 col1\" >239.857143</td>\n",
       "    </tr>\n",
       "    <tr>\n",
       "      <th id=\"T_c4de1_level0_row26\" class=\"row_heading level0 row26\" >26</th>\n",
       "      <td id=\"T_c4de1_row26_col0\" class=\"data row26 col0\" >60</td>\n",
       "      <td id=\"T_c4de1_row26_col1\" class=\"data row26 col1\" >245.545455</td>\n",
       "    </tr>\n",
       "    <tr>\n",
       "      <th id=\"T_c4de1_level0_row27\" class=\"row_heading level0 row27\" >27</th>\n",
       "      <td id=\"T_c4de1_row27_col0\" class=\"data row27 col0\" >61</td>\n",
       "      <td id=\"T_c4de1_row27_col1\" class=\"data row27 col1\" >243.750000</td>\n",
       "    </tr>\n",
       "    <tr>\n",
       "      <th id=\"T_c4de1_level0_row28\" class=\"row_heading level0 row28\" >28</th>\n",
       "      <td id=\"T_c4de1_row28_col0\" class=\"data row28 col0\" >62</td>\n",
       "      <td id=\"T_c4de1_row28_col1\" class=\"data row28 col1\" >256.636364</td>\n",
       "    </tr>\n",
       "    <tr>\n",
       "      <th id=\"T_c4de1_level0_row29\" class=\"row_heading level0 row29\" >29</th>\n",
       "      <td id=\"T_c4de1_row29_col0\" class=\"data row29 col0\" >63</td>\n",
       "      <td id=\"T_c4de1_row29_col1\" class=\"data row29 col1\" >258.222222</td>\n",
       "    </tr>\n",
       "    <tr>\n",
       "      <th id=\"T_c4de1_level0_row30\" class=\"row_heading level0 row30\" >30</th>\n",
       "      <td id=\"T_c4de1_row30_col0\" class=\"data row30 col0\" >64</td>\n",
       "      <td id=\"T_c4de1_row30_col1\" class=\"data row30 col1\" >274.400000</td>\n",
       "    </tr>\n",
       "    <tr>\n",
       "      <th id=\"T_c4de1_level0_row31\" class=\"row_heading level0 row31\" >31</th>\n",
       "      <td id=\"T_c4de1_row31_col0\" class=\"data row31 col0\" >65</td>\n",
       "      <td id=\"T_c4de1_row31_col1\" class=\"data row31 col1\" >279.000000</td>\n",
       "    </tr>\n",
       "    <tr>\n",
       "      <th id=\"T_c4de1_level0_row32\" class=\"row_heading level0 row32\" >32</th>\n",
       "      <td id=\"T_c4de1_row32_col0\" class=\"data row32 col0\" >66</td>\n",
       "      <td id=\"T_c4de1_row32_col1\" class=\"data row32 col1\" >245.714286</td>\n",
       "    </tr>\n",
       "    <tr>\n",
       "      <th id=\"T_c4de1_level0_row33\" class=\"row_heading level0 row33\" >33</th>\n",
       "      <td id=\"T_c4de1_row33_col0\" class=\"data row33 col0\" >67</td>\n",
       "      <td id=\"T_c4de1_row33_col1\" class=\"data row33 col1\" >286.777778</td>\n",
       "    </tr>\n",
       "    <tr>\n",
       "      <th id=\"T_c4de1_level0_row34\" class=\"row_heading level0 row34\" >34</th>\n",
       "      <td id=\"T_c4de1_row34_col0\" class=\"data row34 col0\" >68</td>\n",
       "      <td id=\"T_c4de1_row34_col1\" class=\"data row34 col1\" >238.750000</td>\n",
       "    </tr>\n",
       "    <tr>\n",
       "      <th id=\"T_c4de1_level0_row35\" class=\"row_heading level0 row35\" >35</th>\n",
       "      <td id=\"T_c4de1_row35_col0\" class=\"data row35 col0\" >69</td>\n",
       "      <td id=\"T_c4de1_row35_col1\" class=\"data row35 col1\" >242.333333</td>\n",
       "    </tr>\n",
       "    <tr>\n",
       "      <th id=\"T_c4de1_level0_row36\" class=\"row_heading level0 row36\" >36</th>\n",
       "      <td id=\"T_c4de1_row36_col0\" class=\"data row36 col0\" >70</td>\n",
       "      <td id=\"T_c4de1_row36_col1\" class=\"data row36 col1\" >252.500000</td>\n",
       "    </tr>\n",
       "    <tr>\n",
       "      <th id=\"T_c4de1_level0_row37\" class=\"row_heading level0 row37\" >37</th>\n",
       "      <td id=\"T_c4de1_row37_col0\" class=\"data row37 col0\" >71</td>\n",
       "      <td id=\"T_c4de1_row37_col1\" class=\"data row37 col1\" >238.666667</td>\n",
       "    </tr>\n",
       "    <tr>\n",
       "      <th id=\"T_c4de1_level0_row38\" class=\"row_heading level0 row38\" >38</th>\n",
       "      <td id=\"T_c4de1_row38_col0\" class=\"data row38 col0\" >74</td>\n",
       "      <td id=\"T_c4de1_row38_col1\" class=\"data row38 col1\" >269.000000</td>\n",
       "    </tr>\n",
       "    <tr>\n",
       "      <th id=\"T_c4de1_level0_row39\" class=\"row_heading level0 row39\" >39</th>\n",
       "      <td id=\"T_c4de1_row39_col0\" class=\"data row39 col0\" >76</td>\n",
       "      <td id=\"T_c4de1_row39_col1\" class=\"data row39 col1\" >197.000000</td>\n",
       "    </tr>\n",
       "    <tr>\n",
       "      <th id=\"T_c4de1_level0_row40\" class=\"row_heading level0 row40\" >40</th>\n",
       "      <td id=\"T_c4de1_row40_col0\" class=\"data row40 col0\" >77</td>\n",
       "      <td id=\"T_c4de1_row40_col1\" class=\"data row40 col1\" >304.000000</td>\n",
       "    </tr>\n",
       "  </tbody>\n",
       "</table>\n"
      ],
      "text/plain": [
       "<pandas.io.formats.style.Styler at 0x7f3da7539a80>"
      ]
     },
     "execution_count": 8,
     "metadata": {},
     "output_type": "execute_result"
    }
   ],
   "source": [
    "grp = df.groupby(\"age\", as_index=False)[\"chol\"].mean()\n",
    "grp.style.background_gradient(cmap = \"Reds\",axis=None)"
   ]
  },
  {
   "cell_type": "code",
   "execution_count": 40,
   "metadata": {},
   "outputs": [],
   "source": [
    "from sklearn.linear_model import LogisticRegression \n",
    "from sklearn import svm \n",
    "from sklearn.model_selection import train_test_split \n",
    "from sklearn import metrics \n",
    "from sklearn.metrics import confusion_matrix "
   ]
  },
  {
   "cell_type": "code",
   "execution_count": 41,
   "metadata": {},
   "outputs": [],
   "source": [
    "x=df.drop(['output'],axis=1)\n",
    "y=df['output']"
   ]
  },
  {
   "cell_type": "code",
   "execution_count": 66,
   "metadata": {},
   "outputs": [],
   "source": [
    "train_X, test_X, train_Y, test_Y = train_test_split(x, y, test_size=0.2 , random_state=120)"
   ]
  },
  {
   "cell_type": "code",
   "execution_count": 67,
   "metadata": {},
   "outputs": [
    {
     "name": "stderr",
     "output_type": "stream",
     "text": [
      "/home/sugata/.local/lib/python3.10/site-packages/sklearn/linear_model/_logistic.py:444: ConvergenceWarning:\n",
      "\n",
      "lbfgs failed to converge (status=1):\n",
      "STOP: TOTAL NO. of ITERATIONS REACHED LIMIT.\n",
      "\n",
      "Increase the number of iterations (max_iter) or scale the data as shown in:\n",
      "    https://scikit-learn.org/stable/modules/preprocessing.html\n",
      "Please also refer to the documentation for alternative solver options:\n",
      "    https://scikit-learn.org/stable/modules/linear_model.html#logistic-regression\n",
      "\n"
     ]
    },
    {
     "data": {
      "text/html": [
       "<style>#sk-container-id-8 {color: black;background-color: white;}#sk-container-id-8 pre{padding: 0;}#sk-container-id-8 div.sk-toggleable {background-color: white;}#sk-container-id-8 label.sk-toggleable__label {cursor: pointer;display: block;width: 100%;margin-bottom: 0;padding: 0.3em;box-sizing: border-box;text-align: center;}#sk-container-id-8 label.sk-toggleable__label-arrow:before {content: \"▸\";float: left;margin-right: 0.25em;color: #696969;}#sk-container-id-8 label.sk-toggleable__label-arrow:hover:before {color: black;}#sk-container-id-8 div.sk-estimator:hover label.sk-toggleable__label-arrow:before {color: black;}#sk-container-id-8 div.sk-toggleable__content {max-height: 0;max-width: 0;overflow: hidden;text-align: left;background-color: #f0f8ff;}#sk-container-id-8 div.sk-toggleable__content pre {margin: 0.2em;color: black;border-radius: 0.25em;background-color: #f0f8ff;}#sk-container-id-8 input.sk-toggleable__control:checked~div.sk-toggleable__content {max-height: 200px;max-width: 100%;overflow: auto;}#sk-container-id-8 input.sk-toggleable__control:checked~label.sk-toggleable__label-arrow:before {content: \"▾\";}#sk-container-id-8 div.sk-estimator input.sk-toggleable__control:checked~label.sk-toggleable__label {background-color: #d4ebff;}#sk-container-id-8 div.sk-label input.sk-toggleable__control:checked~label.sk-toggleable__label {background-color: #d4ebff;}#sk-container-id-8 input.sk-hidden--visually {border: 0;clip: rect(1px 1px 1px 1px);clip: rect(1px, 1px, 1px, 1px);height: 1px;margin: -1px;overflow: hidden;padding: 0;position: absolute;width: 1px;}#sk-container-id-8 div.sk-estimator {font-family: monospace;background-color: #f0f8ff;border: 1px dotted black;border-radius: 0.25em;box-sizing: border-box;margin-bottom: 0.5em;}#sk-container-id-8 div.sk-estimator:hover {background-color: #d4ebff;}#sk-container-id-8 div.sk-parallel-item::after {content: \"\";width: 100%;border-bottom: 1px solid gray;flex-grow: 1;}#sk-container-id-8 div.sk-label:hover label.sk-toggleable__label {background-color: #d4ebff;}#sk-container-id-8 div.sk-serial::before {content: \"\";position: absolute;border-left: 1px solid gray;box-sizing: border-box;top: 0;bottom: 0;left: 50%;z-index: 0;}#sk-container-id-8 div.sk-serial {display: flex;flex-direction: column;align-items: center;background-color: white;padding-right: 0.2em;padding-left: 0.2em;position: relative;}#sk-container-id-8 div.sk-item {position: relative;z-index: 1;}#sk-container-id-8 div.sk-parallel {display: flex;align-items: stretch;justify-content: center;background-color: white;position: relative;}#sk-container-id-8 div.sk-item::before, #sk-container-id-8 div.sk-parallel-item::before {content: \"\";position: absolute;border-left: 1px solid gray;box-sizing: border-box;top: 0;bottom: 0;left: 50%;z-index: -1;}#sk-container-id-8 div.sk-parallel-item {display: flex;flex-direction: column;z-index: 1;position: relative;background-color: white;}#sk-container-id-8 div.sk-parallel-item:first-child::after {align-self: flex-end;width: 50%;}#sk-container-id-8 div.sk-parallel-item:last-child::after {align-self: flex-start;width: 50%;}#sk-container-id-8 div.sk-parallel-item:only-child::after {width: 0;}#sk-container-id-8 div.sk-dashed-wrapped {border: 1px dashed gray;margin: 0 0.4em 0.5em 0.4em;box-sizing: border-box;padding-bottom: 0.4em;background-color: white;}#sk-container-id-8 div.sk-label label {font-family: monospace;font-weight: bold;display: inline-block;line-height: 1.2em;}#sk-container-id-8 div.sk-label-container {text-align: center;}#sk-container-id-8 div.sk-container {/* jupyter's `normalize.less` sets `[hidden] { display: none; }` but bootstrap.min.css set `[hidden] { display: none !important; }` so we also need the `!important` here to be able to override the default hidden behavior on the sphinx rendered scikit-learn.org. See: https://github.com/scikit-learn/scikit-learn/issues/21755 */display: inline-block !important;position: relative;}#sk-container-id-8 div.sk-text-repr-fallback {display: none;}</style><div id=\"sk-container-id-8\" class=\"sk-top-container\"><div class=\"sk-text-repr-fallback\"><pre>LogisticRegression(random_state=0)</pre><b>In a Jupyter environment, please rerun this cell to show the HTML representation or trust the notebook. <br />On GitHub, the HTML representation is unable to render, please try loading this page with nbviewer.org.</b></div><div class=\"sk-container\" hidden><div class=\"sk-item\"><div class=\"sk-estimator sk-toggleable\"><input class=\"sk-toggleable__control sk-hidden--visually\" id=\"sk-estimator-id-8\" type=\"checkbox\" checked><label for=\"sk-estimator-id-8\" class=\"sk-toggleable__label sk-toggleable__label-arrow\">LogisticRegression</label><div class=\"sk-toggleable__content\"><pre>LogisticRegression(random_state=0)</pre></div></div></div></div></div>"
      ],
      "text/plain": [
       "LogisticRegression(random_state=0)"
      ]
     },
     "execution_count": 67,
     "metadata": {},
     "output_type": "execute_result"
    }
   ],
   "source": [
    "classifier = LogisticRegression(random_state = 0)\n",
    "classifier.fit(train_X, train_Y)"
   ]
  },
  {
   "cell_type": "code",
   "execution_count": 68,
   "metadata": {},
   "outputs": [],
   "source": [
    "y_pred = classifier.predict(test_X)"
   ]
  },
  {
   "cell_type": "code",
   "execution_count": 69,
   "metadata": {},
   "outputs": [
    {
     "name": "stdout",
     "output_type": "stream",
     "text": [
      "Accuracy :  0.9180327868852459\n"
     ]
    }
   ],
   "source": [
    "from sklearn.metrics import accuracy_score\n",
    "\n",
    "print (\"Accuracy : \", accuracy_score(test_Y, y_pred))\n"
   ]
  },
  {
   "cell_type": "code",
   "execution_count": 70,
   "metadata": {},
   "outputs": [],
   "source": [
    "import pickle"
   ]
  },
  {
   "cell_type": "code",
   "execution_count": 72,
   "metadata": {},
   "outputs": [],
   "source": [
    "pickle.dump(classifier , open(\"heartattack.pkl\",\"wb\"))"
   ]
  },
  {
   "cell_type": "code",
   "execution_count": null,
   "metadata": {},
   "outputs": [],
   "source": []
  }
 ],
 "metadata": {
  "kernelspec": {
   "display_name": "Python 3",
   "language": "python",
   "name": "python3"
  },
  "language_info": {
   "codemirror_mode": {
    "name": "ipython",
    "version": 3
   },
   "file_extension": ".py",
   "mimetype": "text/x-python",
   "name": "python",
   "nbconvert_exporter": "python",
   "pygments_lexer": "ipython3",
   "version": "3.10.6"
  },
  "orig_nbformat": 4
 },
 "nbformat": 4,
 "nbformat_minor": 2
}
